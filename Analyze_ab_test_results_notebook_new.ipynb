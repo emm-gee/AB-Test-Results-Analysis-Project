{
 "cells": [
  {
   "cell_type": "markdown",
   "metadata": {},
   "source": [
    "## Analyze A/B Test Results\n",
    "\n",
    "\n",
    "## Table of Contents\n",
    "- [Introduction](#intro)\n",
    "- [Part I - Descriptive Statistics](#descriptive)\n",
    "- [Part II - Probability](#probability)\n",
    "- [Part III - Experimentation](#experimentation)\n",
    "- [Part IV - Algorithms](#algorithms)\n",
    "\n",
    "\n",
    "<a id='intro'></a>\n",
    "### Introduction\n",
    "\n",
    "A/B tests are very commonly performed by data analysts and data scientists.  For this project, I will be working to understand the results of an A/B test run by an e-commerce website.  My goal is to work through this notebook to help the company understand if they should implement the new page, keep the old page, or perhaps run the experiment longer to make their decision.\n",
    "\n",
    "\n",
    "\n",
    "<a id='descriptive'></a>\n",
    "#### Part I - Descriptive Statistics"
   ]
  },
  {
   "cell_type": "code",
   "execution_count": 2,
   "metadata": {},
   "outputs": [],
   "source": [
    "import pandas as pd\n",
    "import numpy as np\n",
    "import random\n",
    "import matplotlib.pyplot as plt\n",
    "%matplotlib inline\n",
    "#We are setting the seed to assure you get the same answers on quizzes as we set up\n",
    "random.seed(0)"
   ]
  },
  {
   "cell_type": "markdown",
   "metadata": {},
   "source": [
    "For each of the parts of question `1` notice links to [pandas documentation](https://pandas.pydata.org/) is provided to assist with answering the questions.  Though there are other ways you could solve the questions, the documentation is provided to assist you with one fast way to find the answer to each question.\n",
    "\n",
    "\n",
    "`1.a)` Now, read in the `ab_data.csv` data. Store it in `df`. Read in the dataset and take a look at the top few rows here. **This question is completed for you**:"
   ]
  },
  {
   "cell_type": "code",
   "execution_count": 3,
   "metadata": {},
   "outputs": [
    {
     "data": {
      "text/html": [
       "<div>\n",
       "<style scoped>\n",
       "    .dataframe tbody tr th:only-of-type {\n",
       "        vertical-align: middle;\n",
       "    }\n",
       "\n",
       "    .dataframe tbody tr th {\n",
       "        vertical-align: top;\n",
       "    }\n",
       "\n",
       "    .dataframe thead th {\n",
       "        text-align: right;\n",
       "    }\n",
       "</style>\n",
       "<table border=\"1\" class=\"dataframe\">\n",
       "  <thead>\n",
       "    <tr style=\"text-align: right;\">\n",
       "      <th></th>\n",
       "      <th>country</th>\n",
       "      <th>group</th>\n",
       "      <th>converted</th>\n",
       "    </tr>\n",
       "  </thead>\n",
       "  <tbody>\n",
       "    <tr>\n",
       "      <th>0</th>\n",
       "      <td>UK</td>\n",
       "      <td>control</td>\n",
       "      <td>0</td>\n",
       "    </tr>\n",
       "    <tr>\n",
       "      <th>1</th>\n",
       "      <td>US</td>\n",
       "      <td>treatment</td>\n",
       "      <td>1</td>\n",
       "    </tr>\n",
       "    <tr>\n",
       "      <th>2</th>\n",
       "      <td>UK</td>\n",
       "      <td>treatment</td>\n",
       "      <td>0</td>\n",
       "    </tr>\n",
       "    <tr>\n",
       "      <th>3</th>\n",
       "      <td>UK</td>\n",
       "      <td>control</td>\n",
       "      <td>0</td>\n",
       "    </tr>\n",
       "    <tr>\n",
       "      <th>4</th>\n",
       "      <td>UK</td>\n",
       "      <td>treatment</td>\n",
       "      <td>0</td>\n",
       "    </tr>\n",
       "  </tbody>\n",
       "</table>\n",
       "</div>"
      ],
      "text/plain": [
       "  country      group  converted\n",
       "0      UK    control          0\n",
       "1      US  treatment          1\n",
       "2      UK  treatment          0\n",
       "3      UK    control          0\n",
       "4      UK  treatment          0"
      ]
     },
     "execution_count": 3,
     "metadata": {},
     "output_type": "execute_result"
    }
   ],
   "source": [
    "df = pd.read_csv('ab_data.csv')\n",
    "df.head()"
   ]
  },
  {
   "cell_type": "markdown",
   "metadata": {},
   "source": [
    "`b)` Use the below cell to find the number of rows in the dataset. [Helpful  Pandas Link](https://pandas.pydata.org/docs/reference/api/pandas.DataFrame.shape.html#pandas.DataFrame.shape)"
   ]
  },
  {
   "cell_type": "code",
   "execution_count": 4,
   "metadata": {},
   "outputs": [
    {
     "data": {
      "text/plain": [
       "(69889, 3)"
      ]
     },
     "execution_count": 4,
     "metadata": {},
     "output_type": "execute_result"
    }
   ],
   "source": [
    "df.shape"
   ]
  },
  {
   "cell_type": "markdown",
   "metadata": {
    "collapsed": true
   },
   "source": [
    "`c)` The proportion of users converted.  [Helpful  Pandas Link](https://pandas.pydata.org/docs/reference/api/pandas.DataFrame.mean.html)"
   ]
  },
  {
   "cell_type": "code",
   "execution_count": 5,
   "metadata": {},
   "outputs": [
    {
     "name": "stdout",
     "output_type": "stream",
     "text": [
      "The proportion of users converted is: 0.1305\n"
     ]
    }
   ],
   "source": [
    "total_converted = df['converted'].sum()\n",
    "proportion_converted = total_converted / df.shape[0]\n",
    "print(f\"The proportion of users converted is: {proportion_converted:.4}\")"
   ]
  },
  {
   "cell_type": "markdown",
   "metadata": {},
   "source": [
    "`d)` Do any of the rows have missing values? [Helpful Pandas Link One](https://pandas.pydata.org/docs/reference/api/pandas.DataFrame.isnull.html) and [Helpful Pandas Link Two](https://pandas.pydata.org/docs/reference/api/pandas.DataFrame.sum.html)"
   ]
  },
  {
   "cell_type": "code",
   "execution_count": 6,
   "metadata": {},
   "outputs": [
    {
     "name": "stdout",
     "output_type": "stream",
     "text": [
      "There are no null values in the dataset.\n"
     ]
    }
   ],
   "source": [
    "df.isnull().sum()\n",
    "print('There are no null values in the dataset.')"
   ]
  },
  {
   "cell_type": "markdown",
   "metadata": {},
   "source": [
    "`e)` How many customers are from each country? Build a bar chart to show the count of visits from each country."
   ]
  },
  {
   "cell_type": "code",
   "execution_count": 7,
   "metadata": {},
   "outputs": [
    {
     "data": {
      "text/plain": [
       "US    48850\n",
       "UK    17551\n",
       "CA     3488\n",
       "Name: country, dtype: int64"
      ]
     },
     "execution_count": 7,
     "metadata": {},
     "output_type": "execute_result"
    }
   ],
   "source": [
    "df['country'].value_counts()"
   ]
  },
  {
   "cell_type": "code",
   "execution_count": 8,
   "metadata": {},
   "outputs": [
    {
     "data": {
      "image/png": "[encoded data removed]",
      "text/plain": [
       "<Figure size 640x480 with 1 Axes>"
      ]
     },
     "metadata": {},
     "output_type": "display_data"
    }
   ],
   "source": [
    "df['country'].value_counts().plot(kind='bar');\n",
    "plt.title('Number of Visits From Each Country');\n",
    "plt.ylabel('Count of Visits');\n",
    "plt.show();"
   ]
  },
  {
   "cell_type": "markdown",
   "metadata": {},
   "source": [
    "`f)` Recognize that all of your columns are of a **categorical data type** with the exception of one.  Which column is not **categorical**? [Helpful Pandas Link](https://pandas.pydata.org/docs/reference/api/pandas.DataFrame.info.html)"
   ]
  },
  {
   "cell_type": "code",
   "execution_count": 9,
   "metadata": {},
   "outputs": [
    {
     "name": "stdout",
     "output_type": "stream",
     "text": [
      "country      object\n",
      "group        object\n",
      "converted     int64\n",
      "dtype: object\n",
      "The 'converted' column is numerical, and is not catigorical\n"
     ]
    }
   ],
   "source": [
    "print(df.dtypes)\n",
    "print(\"The 'converted' column is numerical, and is not catigorical\")"
   ]
  },
  {
   "cell_type": "markdown",
   "metadata": {},
   "source": [
    "`g)` What are the possible values of the `converted` column?  Does it make sense that these values are the only possible values? Why or why not? \n",
    "\n",
    "**Here you can use one of the functions you used in an earlier question**."
   ]
  },
  {
   "cell_type": "code",
   "execution_count": 10,
   "metadata": {},
   "outputs": [
    {
     "name": "stdout",
     "output_type": "stream",
     "text": [
      "Yes, it makes sense that there are only two values in the 'converted' column\n",
      "0 = No and 1 = Yes\n"
     ]
    }
   ],
   "source": [
    "df['converted'].value_counts()\n",
    "\n",
    "print(\"Yes, it makes sense that there are only two values in the 'converted' column\")\n",
    "print(\"0 = No and 1 = Yes\")"
   ]
  },
  {
   "cell_type": "markdown",
   "metadata": {},
   "source": [
    "<a id='probability'></a>\n",
    "#### Part II - Probability\n",
    "\n",
    "`1.` Now that you have had a chance to learn more about the dataset, let's look more at how different factors are related to `converting`.\n",
    "\n",
    "`a)` What is the probability of an individual converting regardless of the page they receive or the country they are from? Simply, what is the chance of conversion in the dataset?"
   ]
  },
  {
   "cell_type": "code",
   "execution_count": 11,
   "metadata": {},
   "outputs": [
    {
     "name": "stdout",
     "output_type": "stream",
     "text": [
      "Probability of conversion: 0.13047832992316388\n"
     ]
    }
   ],
   "source": [
    "conversion_probability = df['converted'].mean()\n",
    "\n",
    "print(f\"Probability of conversion: {conversion_probability}\")"
   ]
  },
  {
   "cell_type": "markdown",
   "metadata": {},
   "source": [
    "`b)` Given that an individual was in the `control` group, what is the probability they converted? **This question is completed for you**"
   ]
  },
  {
   "cell_type": "code",
   "execution_count": 12,
   "metadata": {},
   "outputs": [
    {
     "data": {
      "text/plain": [
       "0.1052540515600669"
      ]
     },
     "execution_count": 12,
     "metadata": {},
     "output_type": "execute_result"
    }
   ],
   "source": [
    "df.query('group == \"control\"')['converted'].mean()"
   ]
  },
  {
   "cell_type": "markdown",
   "metadata": {},
   "source": [
    "`c)` Given that an individual was in the `treatment` group, what is the probability they converted?"
   ]
  },
  {
   "cell_type": "code",
   "execution_count": 38,
   "metadata": {},
   "outputs": [
    {
     "data": {
      "text/plain": [
       "group\n",
       "control      0.105254\n",
       "treatment    0.155321\n",
       "Name: converted, dtype: float64"
      ]
     },
     "execution_count": 38,
     "metadata": {},
     "output_type": "execute_result"
    }
   ],
   "source": [
    "df.query('group == \"treatment\"')['converted'].mean()\n",
    "\n",
    "#df.groupby('group')['converted'].mean()"
   ]
  },
  {
   "cell_type": "code",
   "execution_count": 43,
   "metadata": {},
   "outputs": [
    {
     "data": {
      "text/plain": [
       "35211"
      ]
     },
     "execution_count": 43,
     "metadata": {},
     "output_type": "execute_result"
    }
   ],
   "source": [
    "# Number of visitors in the Treatment (Variant) group\n",
    "df.query('group == \"treatment\"').shape[0]\n"
   ]
  },
  {
   "cell_type": "code",
   "execution_count": 42,
   "metadata": {},
   "outputs": [
    {
     "data": {
      "text/plain": [
       "34678"
      ]
     },
     "execution_count": 42,
     "metadata": {},
     "output_type": "execute_result"
    }
   ],
   "source": [
    "# Number of visitors in the Control group\n",
    "df.query('group == \"control\"').shape[0]"
   ]
  },
  {
   "cell_type": "code",
   "execution_count": 46,
   "metadata": {},
   "outputs": [
    {
     "data": {
      "image/png": "[encoded data removed]",
      "text/plain": [
       "<Figure size 640x480 with 1 Axes>"
      ]
     },
     "metadata": {},
     "output_type": "display_data"
    }
   ],
   "source": [
    "total_treatment = df.query('group == \"treatment\"').shape[0]\n",
    "total_control = df.query('group == \"control\"').shape[0]\n",
    "\n",
    "groups = ['Treatment', 'Control']\n",
    "totals = [total_treatment, total_control]\n",
    "\n",
    "plt.bar(groups, totals, color=['blue', 'orange'])\n",
    "plt.title('Total Participants by Group')\n",
    "plt.ylabel('Number of Participants')\n",
    "plt.xlabel('Group')\n",
    "plt.show()"
   ]
  },
  {
   "cell_type": "markdown",
   "metadata": {},
   "source": [
    "`d)` Do you see evidence that the treatment is related to higher `converted` rates?"
   ]
  },
  {
   "cell_type": "code",
   "execution_count": 14,
   "metadata": {},
   "outputs": [
    {
     "name": "stdout",
     "output_type": "stream",
     "text": [
      "There is evidence that the treatment group has a higher conversion rate compared to the control group.\n"
     ]
    }
   ],
   "source": [
    "print('There is evidence that the treatment group has a higher conversion rate compared to the control group.')"
   ]
  },
  {
   "cell_type": "markdown",
   "metadata": {},
   "source": [
    "`e)` What is the probability that an individual was in the `treatment`?"
   ]
  },
  {
   "cell_type": "code",
   "execution_count": 15,
   "metadata": {},
   "outputs": [
    {
     "name": "stdout",
     "output_type": "stream",
     "text": [
      "The probability that an individual was in the treatment group is 0.5038131894861853\n"
     ]
    }
   ],
   "source": [
    "probability_treatment = (df['group'] == 'treatment').mean()\n",
    "\n",
    "print(f\"The probability that an individual was in the treatment group is {probability_treatment}\")"
   ]
  },
  {
   "cell_type": "markdown",
   "metadata": {},
   "source": [
    "`f)` What is the probability that an individual was from Canada `CA`?"
   ]
  },
  {
   "cell_type": "code",
   "execution_count": 16,
   "metadata": {
    "scrolled": true
   },
   "outputs": [
    {
     "name": "stdout",
     "output_type": "stream",
     "text": [
      "Probability of being from Canada: 0.04990771079855199\n"
     ]
    }
   ],
   "source": [
    "probability_canada = (df['country'] == 'CA').mean()\n",
    "\n",
    "print(f\"Probability of being from Canada: {probability_canada}\")"
   ]
  },
  {
   "cell_type": "markdown",
   "metadata": {},
   "source": [
    "Given that an individual was in the `US`, what was the probability that they `converted`? **This question is completed for you**\n",
    "\n",
    "$P(\\text{converted} == 1|\\text{country} ==\\text{\"US\"})$\n",
    "\n"
   ]
  },
  {
   "cell_type": "code",
   "execution_count": 17,
   "metadata": {},
   "outputs": [
    {
     "data": {
      "text/plain": [
       "0.13277379733879222"
      ]
     },
     "execution_count": 17,
     "metadata": {},
     "output_type": "execute_result"
    }
   ],
   "source": [
    "df.query('country == \"US\"')['converted'].mean()"
   ]
  },
  {
   "cell_type": "markdown",
   "metadata": {},
   "source": [
    "`h)` Given that an individual was in the `UK`, what was the probability that they `converted`? \n",
    "\n",
    "$P(\\text{converted} == 1|\\text{country} ==\\text{\"UK\"})$"
   ]
  },
  {
   "cell_type": "code",
   "execution_count": 18,
   "metadata": {},
   "outputs": [
    {
     "name": "stdout",
     "output_type": "stream",
     "text": [
      "Probability of conversion in the UK: 0.12512107572218106\n"
     ]
    }
   ],
   "source": [
    "uk_conversion_probability = df.query('country == \"UK\"')['converted'].mean()\n",
    "\n",
    "print(f\"Probability of conversion in the UK: {uk_conversion_probability:}\")"
   ]
  },
  {
   "cell_type": "markdown",
   "metadata": {},
   "source": [
    "`i)` Do you see evidence that the `converted` rate might differ from one country to the next?"
   ]
  },
  {
   "cell_type": "code",
   "execution_count": 19,
   "metadata": {},
   "outputs": [
    {
     "name": "stdout",
     "output_type": "stream",
     "text": [
      "country\n",
      "CA    0.125287\n",
      "UK    0.125121\n",
      "US    0.132774\n",
      "Name: converted, dtype: float64\n"
     ]
    }
   ],
   "source": [
    "conversion_rates_by_country = df.groupby('country')['converted'].mean()\n",
    "\n",
    "print(conversion_rates_by_country)"
   ]
  },
  {
   "cell_type": "markdown",
   "metadata": {},
   "source": [
    "`j)` Consider the table below, fill in the conversion rates below to look at how conversion by country and treatment group vary.  The `US` column is done for you, and two methods for calculating the probabilities are shown - **COMPLETE THE REST OF THE TABLE**.  Does it appear that there could be an interaction between how country and treatment impact conversion?\n",
    "\n",
    "These two values that are filled in can be written as:\n",
    "\n",
    "$P(\\text{converted} == 1|(\\text{country} ==\\text{\"US\" AND }\\text{group} ==\\text{\"control\"})) = 10.7\\%$\n",
    "\n",
    "$P(\\text{converted} == 1|(\\text{country} ==\\text{\"US\" AND }\\text{group} ==\\text{\"treatment\"})) = 15.8\\%$\n",
    "\n",
    "|             | US          | UK          | CA          |\n",
    "| ----------- | ----------- | ----------- | ----------- |\n",
    "| Control     | 10.7%       |  %          |  %          |\n",
    "| Treatment   | 15.8%       |  %          |  %          |"
   ]
  },
  {
   "cell_type": "code",
   "execution_count": 20,
   "metadata": {},
   "outputs": [
    {
     "data": {
      "text/plain": [
       "(10.164866401364412, 14.8698035632709)"
      ]
     },
     "execution_count": 20,
     "metadata": {},
     "output_type": "execute_result"
    }
   ],
   "source": [
    "uk_control_conversion = df.query('country == \"UK\" and group == \"control\"')['converted'].mean() * 100\n",
    "uk_treatment_conversion = df.query('country == \"UK\" and group == \"treatment\"')['converted'].mean() * 100\n",
    "\n",
    "\n",
    "uk_control_conversion, uk_treatment_conversion"
   ]
  },
  {
   "cell_type": "code",
   "execution_count": 21,
   "metadata": {},
   "outputs": [
    {
     "data": {
      "text/plain": [
       "(9.44741532976827, 15.401662049861494)"
      ]
     },
     "execution_count": 21,
     "metadata": {},
     "output_type": "execute_result"
    }
   ],
   "source": [
    "ca_control_conversion = df.query('country == \"CA\" and group == \"control\"')['converted'].mean() * 100\n",
    "ca_treatment_conversion = df.query('country == \"CA\" and group == \"treatment\"')['converted'].mean() * 100\n",
    "\n",
    "ca_control_conversion, ca_treatment_conversion"
   ]
  },
  {
   "cell_type": "markdown",
   "metadata": {},
   "source": [
    "##### Solution -- Complete the Table Here\n",
    "\n",
    "|             | US          | UK          | CA          |\n",
    "| ----------- | ----------- | ----------- | ----------- |\n",
    "| Control     | 10.7%       |  10.2%      |  9.4%       |\n",
    "| Treatment   | 15.8%       |  14.9%      |  15.4%      |"
   ]
  },
  {
   "cell_type": "markdown",
   "metadata": {},
   "source": [
    "<a id='experimentation'></a>\n",
    "### Part III - Experimentation\n",
    "\n",
    "`1.` Consider you need to make the decision just based on all the data provided.  If you want to assume that the control page is better unless the treatment page proves to be definitely better at a Type I error rate of 5%, you state your null and alternative hypotheses in terms of **$p_{control}$** and **$p_{treatment}$** as:  \n",
    "\n",
    "$H_{0}: p_{control} >= p_{treatment}$\n",
    "\n",
    "$H_{1}: p_{control} < p_{treatment}$\n",
    "\n",
    "Which is equivalent to:\n",
    "\n",
    "$H_{0}: p_{treatment} - p_{control} <= 0$\n",
    "\n",
    "$H_{1}: p_{treatment} - p_{control} > 0$\n",
    "\n",
    "\n",
    "Where  \n",
    "* **$p_{control}$** is the `converted` rate for the control page\n",
    "* **$p_{treatment}$** `converted` rate for the treatment page\n",
    "\n",
    "**Note for this experiment we are not looking at differences associated with country.**"
   ]
  },
  {
   "cell_type": "markdown",
   "metadata": {},
   "source": [
    "Assume under the null hypothesis, $p_{treatment}$ and $p_{control}$ both have \"true\" success rates equal to the **converted** success rate regardless of page - that is $p_{treatment}$ and $p_{control}$ are equal. Furthermore, assume they are equal to the **converted** rate in `df` regardless of the page. **These are set in the first cell below.**<br><br>\n",
    "\n",
    "* Use a sample size for each page equal to the ones in `df`. **These are also set below.**  <br><br>\n",
    "\n",
    "* Perform the sampling distribution for the difference in `converted` between the two pages over 500 iterations of calculating an estimate from the null.  <br><br>\n",
    "\n",
    "* Use the cells below to provide the necessary parts of this simulation.  \n",
    "\n",
    "If this doesn't make complete sense right now, don't worry - you are going to work through the problems below to complete this problem.  You can use **Quiz 4** in the classroom to make sure you are on the right track.<br><br>"
   ]
  },
  {
   "cell_type": "markdown",
   "metadata": {},
   "source": [
    "`a)` The **convert rate** for $p_{treatment}$ under the null.  The **convert rate** for $p_{control}$ under the null. The sample size for the `control` and the sample size for the `treatment` are from the original dataset. **All of these values are set below, and set the stage for the simulations you will run for the rest of this section.**"
   ]
  },
  {
   "cell_type": "code",
   "execution_count": 22,
   "metadata": {},
   "outputs": [],
   "source": [
    "p_control_treatment_null  = df['converted'].mean()\n",
    "n_treatment = df.query('group == \"treatment\"').shape[0]\n",
    "n_control = df.query('group == \"control\"').shape[0]"
   ]
  },
  {
   "cell_type": "markdown",
   "metadata": {},
   "source": [
    "`b)` Use the results from part `a)` to simulate `n_treatment` transactions with a convert rate of `p_treatment_null`.  Store these $n_{treatment}$ 1's and 0's in a `list` of **treatment_converted**.  It should look something like the following (the 0's and and 1's **don't** need to be the same): \n",
    "\n",
    "`[0, 0, 1, 1, 0, ....]` "
   ]
  },
  {
   "cell_type": "code",
   "execution_count": 23,
   "metadata": {},
   "outputs": [
    {
     "data": {
      "text/plain": [
       "array([0, 0, 0, ..., 1, 0, 0])"
      ]
     },
     "execution_count": 23,
     "metadata": {},
     "output_type": "execute_result"
    }
   ],
   "source": [
    "treatment_converted = np.random.binomial(1, p_control_treatment_null, n_treatment)\n",
    "treatment_converted"
   ]
  },
  {
   "cell_type": "markdown",
   "metadata": {},
   "source": [
    "`c)` Use the results from part `a)` to simulate `n_control` transactions with a convert rate of `p_control_null`.  Store these $n_{treatment}$ 1's and 0's in a `list` of **control_converted**.  It should look something like the following (the 0's and and 1's **don't** need to be exactly the same): \n",
    "\n",
    "`[0, 0, 1, 1, 0, ....]` "
   ]
  },
  {
   "cell_type": "code",
   "execution_count": 24,
   "metadata": {},
   "outputs": [
    {
     "data": {
      "text/plain": [
       "array([0, 1, 0, ..., 1, 1, 0])"
      ]
     },
     "execution_count": 24,
     "metadata": {},
     "output_type": "execute_result"
    }
   ],
   "source": [
    "control_converted = np.random.binomial(1, p_control_treatment_null, n_control)\n",
    "control_converted"
   ]
  },
  {
   "cell_type": "markdown",
   "metadata": {},
   "source": [
    "`d)` Find the estimate for $p_{treatment}$ - $p_{control}$ under the null using the simulated values from part `(b)` and `(c)`."
   ]
  },
  {
   "cell_type": "code",
   "execution_count": 25,
   "metadata": {},
   "outputs": [
    {
     "data": {
      "text/plain": [
       "0.003970883815028192"
      ]
     },
     "execution_count": 25,
     "metadata": {},
     "output_type": "execute_result"
    }
   ],
   "source": [
    "p_treatment = np.mean(treatment_converted)\n",
    "p_control = np.mean(control_converted)\n",
    "\n",
    "# Calculate the difference in conversion rates\n",
    "p_diff = p_treatment - p_control\n",
    "p_diff"
   ]
  },
  {
   "cell_type": "markdown",
   "metadata": {},
   "source": [
    "`e)` Simulate 500 $p_{treatment}$ - $p_{control}$ values using this same process as `b)`- `d)` similarly to the one you calculated in parts **a. through g.** above.  Store all 500 values in an numpy array called **p_diffs**.  This array should look similar to the below **(the values will not match AND this will likely take a bit of time to run)**:\n",
    "\n",
    "`[0.001, -0.003, 0.002, ...]`"
   ]
  },
  {
   "cell_type": "code",
   "execution_count": 26,
   "metadata": {},
   "outputs": [
    {
     "name": "stdout",
     "output_type": "stream",
     "text": [
      "[0.0020108594373272892, -0.004243708681045788, 0.003370987197448355, 0.0008495061621122402, 0.0005371308138396036, -0.0010013094843392967, 0.0036986674431674638, 0.000611801154677516, 0.0006542237621115499, 0.0037122533241466804]\n"
     ]
    }
   ],
   "source": [
    "# Initialize an empty list to store the differences\n",
    "p_diffs = []\n",
    "\n",
    "# Simulate 500 times\n",
    "for _ in range(500):\n",
    "    # Simulate treatment conversions under the null\n",
    "    treatment_converted = np.random.binomial(1, p_control_treatment_null, n_treatment)\n",
    "    # Simulate control conversions under the null\n",
    "    control_converted = np.random.binomial(1, p_control_treatment_null, n_control)\n",
    "    \n",
    "    # Calculate the proportions for treatment and control groups\n",
    "    p_treatment = np.mean(treatment_converted)\n",
    "    p_control = np.mean(control_converted)\n",
    "    \n",
    "    # Calculate the difference in proportions an append to the list\n",
    "    p_diffs.append(p_treatment - p_control)\n",
    "\n",
    "# Convert the list to a numpy array\n",
    "p_diffs_array = np.array(p_diffs)\n",
    "\n",
    "# Display the first 10 simulated differences for verification\n",
    "print(p_diffs[:10])"
   ]
  },
  {
   "cell_type": "markdown",
   "metadata": {},
   "source": [
    "`f)` Plot a histogram of the **p_diffs**.  Does this plot look like what you expected?  Use the matching problem in the classroom to assure you fully understand what was computed here."
   ]
  },
  {
   "cell_type": "code",
   "execution_count": 27,
   "metadata": {},
   "outputs": [
    {
     "data": {
      "text/plain": [
       "<AxesSubplot: >"
      ]
     },
     "execution_count": 27,
     "metadata": {},
     "output_type": "execute_result"
    },
    {
     "data": {
      "image/png": "[encoded data removed]",
      "text/plain": [
       "<Figure size 640x480 with 1 Axes>"
      ]
     },
     "metadata": {},
     "output_type": "display_data"
    }
   ],
   "source": [
    "p_diffs = pd.Series(p_diffs)\n",
    "p_diffs.hist(bins=20)"
   ]
  },
  {
   "cell_type": "markdown",
   "metadata": {},
   "source": [
    "`g)` What proportion of the **p_diffs** are greater than the difference observed between `treatment` and `control` in `df`?"
   ]
  },
  {
   "cell_type": "code",
   "execution_count": 47,
   "metadata": {},
   "outputs": [
    {
     "name": "stdout",
     "output_type": "stream",
     "text": [
      "Treatment Conversion Rate: 0.1553\n",
      "Control Conversion Rate: 0.1053\n",
      "Observed Difference (p_obs): 0.0501\n",
      "Proportion of p_diffs greater than p_obs (p-value): 0.0000\n"
     ]
    }
   ],
   "source": [
    "# Calculate the observed difference in conversion rates\n",
    "p_treatment_obs = df.query('group == \"treatment\"')['converted'].mean()\n",
    "p_control_obs = df.query('group == \"control\"')['converted'].mean()\n",
    "p_obs = p_treatment_obs - p_control_obs\n",
    "\n",
    "# Calculate the proportion of p_diffs greater than the observed difference\n",
    "p_value = (p_diffs > p_obs).mean()\n",
    "\n",
    "# Display results\n",
    "print(f\"Treatment Conversion Rate: {p_treatment_obs:.4f}\")\n",
    "print(f\"Control Conversion Rate: {p_control_obs:.4f}\")\n",
    "print(f\"Observed Difference (p_obs): {p_obs:.4f}\")\n",
    "print(f\"Proportion of p_diffs greater than p_obs (p-value): {p_value:.4f}\")\n"
   ]
  },
  {
   "cell_type": "markdown",
   "metadata": {},
   "source": [
    "`h)` In words, explain what you just computed in part `g)`  What is this value called in scientific studies?  What does this value mean in terms of whether or not there is a difference between the new and old pages using our Type I error rate of 0.05?"
   ]
  },
  {
   "cell_type": "markdown",
   "metadata": {},
   "source": [
    "In the previous the section we made two calculations, the observed difference, and the p-value.\n",
    "\n",
    "The observed difference calculation computes the actual difference in conversion rates between users who viewed the new page and those who viewed the old page.\n",
    "\n",
    "The p-value calculates how frequently the differences simulated under the assumption that there is no real difference between the pages (the null hypothesis) were greater than the observed difference from the actual data.\n",
    "\n",
    "The p-value tells us whether the observed difference in conversion rates is statistically significant. If this p-value is less than 0.05 (our Type I error rate), it suggests there's enough evidence to reject the null hypothesis, meaning the new page likely has a significant impact on conversions. If the p-value is more than 0.05, it suggests there is not enough evidence to reject the null hypothesis, meaning the new page does not significantly impact conversions compared to the old page."
   ]
  },
  {
   "cell_type": "markdown",
   "metadata": {},
   "source": [
    "<a id='algorithms'></a>\n",
    "### Part IV - Algorithms\n",
    "\n",
    "`1.` In this final part, you will see that the result you acheived in the previous A/B test can also be acheived by performing regression.  All the code needed for the modeling and results of the modeling for sections `b) - f)` have been completed for you. \n",
    "\n",
    "**You will need to complete sections `a)` and `g)`.**  \n",
    "\n",
    "**Then use the code from `1.` to assist with the question `2.`   You should be able to modify the code to assist in answering each of question 2's parts.**<br><br>\n",
    "\n",
    "`a)` Since each row is either a conversion or no conversion, what type of regression should you be performing in this case?"
   ]
  },
  {
   "cell_type": "markdown",
   "metadata": {},
   "source": [
    "The regression model that is appropriate for this situation is logistic regression. logistic regression is soecifically designed for binary outcomes, like whether a user converted(1) or not converted(0)."
   ]
  },
  {
   "cell_type": "markdown",
   "metadata": {},
   "source": [
    "The goal is to use **statsmodels** to fit the regression model you specified in part `a)` to see if there is a significant difference in conversion based on which page a customer receives.  \n",
    "\n",
    "`b)` However, you first need to create a column for the intercept, and create a dummy variable column for which page each user received.  Add an **intercept** column, as well as an **ab_page** column, which is 1 when an individual receives the **treatment** and 0 if **control**.\n",
    "\n",
    "It may be helpful to look at the [get_dummies documentation](https://pandas.pydata.org/docs/reference/api/pandas.get_dummies.html) to encode the `ab_page` column.\n",
    "\n",
    "Below you can see an example of the new columns that will need to be added (The order of columns is not important.): **This question is completed for you**\n",
    "\n",
    "##### Example DataFrame\n",
    "| intercept   | group       | ab_page     | converted   |\n",
    "| ----------- | ----------- | ----------- | ----------- |\n",
    "| 1           |  control    |  0          |  0          |\n",
    "| 1           |  treatment  |  1          |  0          |\n",
    "| 1           |  treatment  |  1          |  0          |\n",
    "| 1           |  control    |  0          |  0          |\n",
    "| 1           |  treatment  |  1          |  1          |\n",
    "| 1           |  treatment  |  1          |  1          |\n",
    "| 1           |  treatment  |  1          |  0          |\n",
    "| 1           |  control    |  0          |  1          |"
   ]
  },
  {
   "cell_type": "code",
   "execution_count": 29,
   "metadata": {},
   "outputs": [
    {
     "data": {
      "text/html": [
       "<div>\n",
       "<style scoped>\n",
       "    .dataframe tbody tr th:only-of-type {\n",
       "        vertical-align: middle;\n",
       "    }\n",
       "\n",
       "    .dataframe tbody tr th {\n",
       "        vertical-align: top;\n",
       "    }\n",
       "\n",
       "    .dataframe thead th {\n",
       "        text-align: right;\n",
       "    }\n",
       "</style>\n",
       "<table border=\"1\" class=\"dataframe\">\n",
       "  <thead>\n",
       "    <tr style=\"text-align: right;\">\n",
       "      <th></th>\n",
       "      <th>country</th>\n",
       "      <th>group</th>\n",
       "      <th>converted</th>\n",
       "      <th>intercept</th>\n",
       "      <th>ab_page</th>\n",
       "    </tr>\n",
       "  </thead>\n",
       "  <tbody>\n",
       "    <tr>\n",
       "      <th>0</th>\n",
       "      <td>UK</td>\n",
       "      <td>control</td>\n",
       "      <td>0</td>\n",
       "      <td>1</td>\n",
       "      <td>0</td>\n",
       "    </tr>\n",
       "    <tr>\n",
       "      <th>1</th>\n",
       "      <td>US</td>\n",
       "      <td>treatment</td>\n",
       "      <td>1</td>\n",
       "      <td>1</td>\n",
       "      <td>1</td>\n",
       "    </tr>\n",
       "    <tr>\n",
       "      <th>2</th>\n",
       "      <td>UK</td>\n",
       "      <td>treatment</td>\n",
       "      <td>0</td>\n",
       "      <td>1</td>\n",
       "      <td>1</td>\n",
       "    </tr>\n",
       "    <tr>\n",
       "      <th>3</th>\n",
       "      <td>UK</td>\n",
       "      <td>control</td>\n",
       "      <td>0</td>\n",
       "      <td>1</td>\n",
       "      <td>0</td>\n",
       "    </tr>\n",
       "    <tr>\n",
       "      <th>4</th>\n",
       "      <td>UK</td>\n",
       "      <td>treatment</td>\n",
       "      <td>0</td>\n",
       "      <td>1</td>\n",
       "      <td>1</td>\n",
       "    </tr>\n",
       "  </tbody>\n",
       "</table>\n",
       "</div>"
      ],
      "text/plain": [
       "  country      group  converted  intercept  ab_page\n",
       "0      UK    control          0          1        0\n",
       "1      US  treatment          1          1        1\n",
       "2      UK  treatment          0          1        1\n",
       "3      UK    control          0          1        0\n",
       "4      UK  treatment          0          1        1"
      ]
     },
     "execution_count": 29,
     "metadata": {},
     "output_type": "execute_result"
    }
   ],
   "source": [
    "df['intercept'] = 1\n",
    "df['ab_page'] = pd.get_dummies(df['group'])['treatment']\n",
    "df.head()"
   ]
  },
  {
   "cell_type": "markdown",
   "metadata": {},
   "source": [
    "`c)`  Create your `X` matrix and `y` response column that will be passed to your model, where you are testing if there is a difference in `treatment` vs. `control`. **This question is completed for you**"
   ]
  },
  {
   "cell_type": "code",
   "execution_count": 30,
   "metadata": {},
   "outputs": [],
   "source": [
    "X = df[['intercept', 'ab_page']]\n",
    "y = df['converted']"
   ]
  },
  {
   "cell_type": "markdown",
   "metadata": {},
   "source": [
    "`d)` Use **statsmodels** to import and fit your regression model on the `X` and `y` from part `c)`. \n",
    "\n",
    "You can find the [statsmodels documentation to assist with this exercise here](https://www.statsmodels.org/stable/discretemod.html).  **This question is completed for you**"
   ]
  },
  {
   "cell_type": "code",
   "execution_count": 31,
   "metadata": {
    "scrolled": true
   },
   "outputs": [
    {
     "name": "stdout",
     "output_type": "stream",
     "text": [
      "Optimization terminated successfully.\n",
      "         Current function value: 0.384516\n",
      "         Iterations 6\n"
     ]
    }
   ],
   "source": [
    "import statsmodels.api as sm\n",
    "\n",
    "# Logit Model\n",
    "logit_mod = sm.Logit(y, X)\n",
    "logit_res = logit_mod.fit()"
   ]
  },
  {
   "cell_type": "markdown",
   "metadata": {},
   "source": [
    "`e)` Provide the summary of your model below. **This question is completed for you**"
   ]
  },
  {
   "cell_type": "code",
   "execution_count": 32,
   "metadata": {},
   "outputs": [
    {
     "name": "stdout",
     "output_type": "stream",
     "text": [
      "                           Logit Regression Results                           \n",
      "==============================================================================\n",
      "Dep. Variable:              converted   No. Observations:                69889\n",
      "Model:                          Logit   Df Residuals:                    69887\n",
      "Method:                           MLE   Df Model:                            1\n",
      "Date:                Fri, 17 Jan 2025   Pseudo R-squ.:                0.007175\n",
      "Time:                        22:11:49   Log-Likelihood:                -26873.\n",
      "converged:                       True   LL-Null:                       -27068.\n",
      "Covariance Type:            nonrobust   LLR p-value:                 1.810e-86\n",
      "==============================================================================\n",
      "                 coef    std err          z      P>|z|      [0.025      0.975]\n",
      "------------------------------------------------------------------------------\n",
      "intercept     -2.1402      0.017   -122.305      0.000      -2.174      -2.106\n",
      "ab_page        0.4467      0.023     19.539      0.000       0.402       0.492\n",
      "==============================================================================\n"
     ]
    }
   ],
   "source": [
    "print(logit_res.summary())"
   ]
  },
  {
   "cell_type": "markdown",
   "metadata": {},
   "source": [
    "`f)` What is the p-value associated with **ab_page**? Does it lead you to the same conclusion you drew in the **Experiment** section."
   ]
  },
  {
   "cell_type": "markdown",
   "metadata": {},
   "source": [
    "The Logit Regression Summary shows a p-value of 0.000 for ab_page, this does in fact support the conclusion we drew in the experiment section which also gave a us a p_value of 0.000. We can conclude that the treatment (new page) has a significant impact on conversion rates compared to the control (old page) and we can therefore reject the null hypothesis."
   ]
  },
  {
   "cell_type": "markdown",
   "metadata": {},
   "source": [
    "`2. a)` Now you will want to create two new columns as dummy variables for `US` and `UK`.  Again, use `get_dummies` to add these columns.  The dataframe you create should include at least the following columns (If both columns for `US` and `UK` are `0` this represents `CA`.  The order of rows and columns is not important for you to match - it is just to illustrate how columns should connect to one another.):\n",
    "\n",
    "##### Example DataFrame\n",
    "| intercept   | group       | ab_page     | converted   | country     |  US         | UK          |\n",
    "| ----------- | ----------- | ----------- | ----------- | ----------- | ----------- | ----------- |\n",
    "| 1           |  control    |  0          |  0          |  US         |  1          |  0          |\n",
    "| 1           |  treatment  |  1          |  0          |  UK         |  0          |  1          |\n",
    "| 1           |  treatment  |  1          |  0          |  US         |  1          |  0          |\n",
    "| 1           |  control    |  0          |  0          |  US         |  1          |  0          |\n",
    "| 1           |  treatment  |  1          |  1          |  CA         |  0          |  0          |\n",
    "| 1           |  treatment  |  1          |  1          |  UK         |  0          |  1          |\n",
    "| 1           |  treatment  |  1          |  0          |  US         |  1          |  0          |\n",
    "| 1           |  control    |  0          |  1          |  US         |  1          |  0          |"
   ]
  },
  {
   "cell_type": "code",
   "execution_count": 33,
   "metadata": {},
   "outputs": [
    {
     "data": {
      "text/html": [
       "<div>\n",
       "<style scoped>\n",
       "    .dataframe tbody tr th:only-of-type {\n",
       "        vertical-align: middle;\n",
       "    }\n",
       "\n",
       "    .dataframe tbody tr th {\n",
       "        vertical-align: top;\n",
       "    }\n",
       "\n",
       "    .dataframe thead th {\n",
       "        text-align: right;\n",
       "    }\n",
       "</style>\n",
       "<table border=\"1\" class=\"dataframe\">\n",
       "  <thead>\n",
       "    <tr style=\"text-align: right;\">\n",
       "      <th></th>\n",
       "      <th>country</th>\n",
       "      <th>group</th>\n",
       "      <th>converted</th>\n",
       "      <th>intercept</th>\n",
       "      <th>ab_page</th>\n",
       "      <th>US</th>\n",
       "      <th>UK</th>\n",
       "    </tr>\n",
       "  </thead>\n",
       "  <tbody>\n",
       "    <tr>\n",
       "      <th>0</th>\n",
       "      <td>UK</td>\n",
       "      <td>control</td>\n",
       "      <td>0</td>\n",
       "      <td>1</td>\n",
       "      <td>0</td>\n",
       "      <td>0</td>\n",
       "      <td>1</td>\n",
       "    </tr>\n",
       "    <tr>\n",
       "      <th>1</th>\n",
       "      <td>US</td>\n",
       "      <td>treatment</td>\n",
       "      <td>1</td>\n",
       "      <td>1</td>\n",
       "      <td>1</td>\n",
       "      <td>1</td>\n",
       "      <td>0</td>\n",
       "    </tr>\n",
       "    <tr>\n",
       "      <th>2</th>\n",
       "      <td>UK</td>\n",
       "      <td>treatment</td>\n",
       "      <td>0</td>\n",
       "      <td>1</td>\n",
       "      <td>1</td>\n",
       "      <td>0</td>\n",
       "      <td>1</td>\n",
       "    </tr>\n",
       "    <tr>\n",
       "      <th>3</th>\n",
       "      <td>UK</td>\n",
       "      <td>control</td>\n",
       "      <td>0</td>\n",
       "      <td>1</td>\n",
       "      <td>0</td>\n",
       "      <td>0</td>\n",
       "      <td>1</td>\n",
       "    </tr>\n",
       "    <tr>\n",
       "      <th>4</th>\n",
       "      <td>UK</td>\n",
       "      <td>treatment</td>\n",
       "      <td>0</td>\n",
       "      <td>1</td>\n",
       "      <td>1</td>\n",
       "      <td>0</td>\n",
       "      <td>1</td>\n",
       "    </tr>\n",
       "  </tbody>\n",
       "</table>\n",
       "</div>"
      ],
      "text/plain": [
       "  country      group  converted  intercept  ab_page  US  UK\n",
       "0      UK    control          0          1        0   0   1\n",
       "1      US  treatment          1          1        1   1   0\n",
       "2      UK  treatment          0          1        1   0   1\n",
       "3      UK    control          0          1        0   0   1\n",
       "4      UK  treatment          0          1        1   0   1"
      ]
     },
     "execution_count": 33,
     "metadata": {},
     "output_type": "execute_result"
    }
   ],
   "source": [
    "country_dummies = pd.get_dummies(df['country'])\n",
    "\n",
    "df['US'] = country_dummies['US']\n",
    "df['UK'] = country_dummies['UK']\n",
    "\n",
    "df.head()"
   ]
  },
  {
   "cell_type": "markdown",
   "metadata": {},
   "source": [
    "`b)`  Create your `X` matrix and `y` response column that will be passed to your model, where you are testing if there is \n",
    "* a difference in `converted` between `treatment` vs. `control`\n",
    "* a difference in `converted` between `US`, `UK`, and `CA`"
   ]
  },
  {
   "cell_type": "code",
   "execution_count": 34,
   "metadata": {},
   "outputs": [],
   "source": [
    "y = df['converted']\n",
    "X = df[['intercept', 'ab_page', 'US', 'UK']]"
   ]
  },
  {
   "cell_type": "markdown",
   "metadata": {},
   "source": [
    "`c)` Use **statsmodels** to import and fit your regression model on the `X` and `y` from part `b)`. \n",
    "You can find the [statsmodels documentation to assist with this exercise here](https://www.statsmodels.org/stable/discretemod.html)."
   ]
  },
  {
   "cell_type": "code",
   "execution_count": 35,
   "metadata": {},
   "outputs": [
    {
     "name": "stdout",
     "output_type": "stream",
     "text": [
      "Optimization terminated successfully.\n",
      "         Current function value: 0.384463\n",
      "         Iterations 6\n"
     ]
    }
   ],
   "source": [
    "import statsmodels.api as sm\n",
    "\n",
    "logit_mod = sm.Logit(y, X)\n",
    "logit_res = logit_mod.fit()"
   ]
  },
  {
   "cell_type": "markdown",
   "metadata": {},
   "source": [
    "`d)` Provide the summary of your model below."
   ]
  },
  {
   "cell_type": "code",
   "execution_count": 36,
   "metadata": {
    "scrolled": true
   },
   "outputs": [
    {
     "name": "stdout",
     "output_type": "stream",
     "text": [
      "                           Logit Regression Results                           \n",
      "==============================================================================\n",
      "Dep. Variable:              converted   No. Observations:                69889\n",
      "Model:                          Logit   Df Residuals:                    69885\n",
      "Method:                           MLE   Df Model:                            3\n",
      "Date:                Fri, 17 Jan 2025   Pseudo R-squ.:                0.007312\n",
      "Time:                        22:11:56   Log-Likelihood:                -26870.\n",
      "converged:                       True   LL-Null:                       -27068.\n",
      "Covariance Type:            nonrobust   LLR p-value:                 1.778e-85\n",
      "==============================================================================\n",
      "                 coef    std err          z      P>|z|      [0.025      0.975]\n",
      "------------------------------------------------------------------------------\n",
      "intercept     -2.1930      0.053    -41.308      0.000      -2.297      -2.089\n",
      "ab_page        0.4466      0.023     19.534      0.000       0.402       0.491\n",
      "US             0.0727      0.053      1.372      0.170      -0.031       0.177\n",
      "UK             0.0067      0.056      0.120      0.905      -0.103       0.117\n",
      "==============================================================================\n"
     ]
    }
   ],
   "source": [
    "print(logit_res.summary())"
   ]
  },
  {
   "cell_type": "markdown",
   "metadata": {},
   "source": [
    "`e)` What do the `p-values` associated with `US` and `UK` suggest in relation to how they impact `converted`? "
   ]
  },
  {
   "cell_type": "markdown",
   "metadata": {},
   "source": [
    "US P-value = 0.17:\n",
    "\n",
    "This p-value indicates that there is no statistically significant difference in conversion rates between users from the US and users from Canada. The value of 0.17 exceeds the common significance level of 0.05, which suggests that we fail to reject the null hypothesis for the US. Therefore, the conversions rates for users in the US and Canada are statistically similar.\n",
    "\n",
    "UK P-value = 0.905:\n",
    "\n",
    "A p-value of 0.905 is much higher than the conventional threshold of 0.05, indicating a very strong likelihood that any observed difference in conversion rates between the UK and Canada is due to random chance rather than a real effect. Thus, there is no statistically significant difference in conversion rates between these two countries."
   ]
  }
 ],
 "metadata": {
  "kernelspec": {
   "display_name": "Python 3 (ipykernel)",
   "language": "python",
   "name": "python3"
  },
  "language_info": {
   "codemirror_mode": {
    "name": "ipython",
    "version": 3
   },
   "file_extension": ".py",
   "mimetype": "text/x-python",
   "name": "python",
   "nbconvert_exporter": "python",
   "pygments_lexer": "ipython3",
   "version": "3.10.13"
  },
  "vscode": {
   "interpreter": {
    "hash": "b34053042c33de92a8f6946323cebca57e40086129f2774c267076f4fb825384"
   }
  }
 },
 "nbformat": 4,
 "nbformat_minor": 2
}
